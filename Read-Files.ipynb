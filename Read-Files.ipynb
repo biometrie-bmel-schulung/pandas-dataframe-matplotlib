{
 "cells": [
  {
   "cell_type": "code",
   "execution_count": null,
   "id": "8e50ca17-b89b-4070-9e04-82c2579c4c54",
   "metadata": {},
   "outputs": [],
   "source": [
    "import pandas as pd\n",
    "\n",
    "# filename and sheet name in Excel-file\n",
    "filename = 'data-files/DWD_03987_Potsdam.date 1801-01-01T00 00 00.000Z.xlsx'\n",
    "sheetname = 'Data'\n",
    "\n",
    "# read Excel file\n",
    "df = pd.read_excel(filename, sheetname, parse_dates = ['_iterator.date'])\n",
    "df.head()"
   ]
  },
  {
   "cell_type": "code",
   "execution_count": null,
   "id": "39a08c1f-da2b-41fe-b282-1e28bec2db6c",
   "metadata": {},
   "outputs": [],
   "source": [
    "df.info()"
   ]
  }
 ],
 "metadata": {
  "kernelspec": {
   "display_name": "Python 3 (ipykernel)",
   "language": "python",
   "name": "python3"
  },
  "language_info": {
   "codemirror_mode": {
    "name": "ipython",
    "version": 3
   },
   "file_extension": ".py",
   "mimetype": "text/x-python",
   "name": "python",
   "nbconvert_exporter": "python",
   "pygments_lexer": "ipython3",
   "version": "3.10.6"
  }
 },
 "nbformat": 4,
 "nbformat_minor": 5
}
